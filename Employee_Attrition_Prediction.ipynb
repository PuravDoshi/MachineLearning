{
  "nbformat": 4,
  "nbformat_minor": 0,
  "metadata": {
    "colab": {
      "provenance": []
    },
    "kernelspec": {
      "name": "python3",
      "display_name": "Python 3"
    },
    "language_info": {
      "name": "python"
    }
  },
  "cells": [
    {
      "cell_type": "code",
      "execution_count": null,
      "metadata": {
        "id": "yeAB7KzCZpaa"
      },
      "outputs": [],
      "source": [
        "import numpy as np\n",
        "import pandas as pd\n",
        "import matplotlib.pyplot as plt\n",
        "import seaborn as sns"
      ]
    },
    {
      "cell_type": "code",
      "source": [
        "df=pd.read_csv('employee_attrition.csv')\n",
        "df.head()"
      ],
      "metadata": {
        "id": "CVF7gaWpaz66"
      },
      "execution_count": null,
      "outputs": []
    },
    {
      "cell_type": "code",
      "source": [
        "df.shape\n",
        "df.info()\n",
        "df.describe()"
      ],
      "metadata": {
        "id": "X8s9MbmObD9K"
      },
      "execution_count": null,
      "outputs": []
    },
    {
      "cell_type": "code",
      "source": [
        "# dropping few columns that are irrelevant for our prediction\n",
        "df=df.drop(columns=['EmployeeCount','EmployeeNumber','StandardHours','Over18'])\n",
        "df.head()"
      ],
      "metadata": {
        "id": "0fMdYPuUdwub"
      },
      "execution_count": null,
      "outputs": []
    },
    {
      "cell_type": "code",
      "source": [
        "df.isnull().sum()"
      ],
      "metadata": {
        "id": "q-vVCDJWbSK1"
      },
      "execution_count": null,
      "outputs": []
    },
    {
      "cell_type": "code",
      "source": [
        "df['EducationField'].unique()\n",
        "df=pd.get_dummies(df,drop_first=True)\n",
        "df.head()"
      ],
      "metadata": {
        "id": "jcYGONrLbc4D"
      },
      "execution_count": null,
      "outputs": []
    },
    {
      "cell_type": "code",
      "source": [
        "df.columns"
      ],
      "metadata": {
        "id": "EkuTOiBocTJA"
      },
      "execution_count": null,
      "outputs": []
    },
    {
      "cell_type": "code",
      "source": [
        "df_2=df.drop(columns='Attrition_Yes')\n",
        "df_2.head()"
      ],
      "metadata": {
        "id": "GTq4SZ88cejq"
      },
      "execution_count": null,
      "outputs": []
    },
    {
      "cell_type": "code",
      "source": [
        "df_2.corrwith(df['Attrition_Yes']).plot.bar(\n",
        "    figsize=(20,10),title='Correlation',rot=45,grid=True\n",
        ")"
      ],
      "metadata": {
        "id": "P9gz1ATQeQLb"
      },
      "execution_count": null,
      "outputs": []
    },
    {
      "cell_type": "code",
      "source": [
        "corr=df.corr()\n",
        "corr"
      ],
      "metadata": {
        "id": "buJf8HvxetGe"
      },
      "execution_count": null,
      "outputs": []
    },
    {
      "cell_type": "code",
      "source": [
        "(df['Attrition_Yes']==0).sum()\n",
        "(df['Attrition_Yes']==1).sum()"
      ],
      "metadata": {
        "id": "P69MPINPew5_"
      },
      "execution_count": null,
      "outputs": []
    },
    {
      "cell_type": "code",
      "source": [
        "plt.figure(figsize=(30,10))\n",
        "sns.heatmap(corr,annot=True)"
      ],
      "metadata": {
        "id": "9Um4h_-XfC6V"
      },
      "execution_count": null,
      "outputs": []
    },
    {
      "cell_type": "code",
      "source": [
        "from sklearn.model_selection import train_test_split\n",
        "X_train,X_test,Y_train,Y_test=train_test_split(df.drop(columns=['Attrition_Yes']),df['Attrition_Yes']\n",
        "                                               ,test_size=0.2,random_state=0)"
      ],
      "metadata": {
        "id": "bMvDUFXPfwrk"
      },
      "execution_count": null,
      "outputs": []
    },
    {
      "cell_type": "code",
      "source": [
        "X_train.shape\n",
        "X_test.shape\n",
        "Y_train.shape\n",
        "Y_test.shape"
      ],
      "metadata": {
        "id": "BZJ0MGnvgMzD"
      },
      "execution_count": null,
      "outputs": []
    },
    {
      "cell_type": "code",
      "source": [
        "# Feature Scaling\n",
        "from sklearn.preprocessing import StandardScaler\n",
        "scaler=StandardScaler()\n",
        "X_train_scaled=scaler.fit_transform(X_train)\n",
        "X_test_scaled=scaler.transform(X_test)"
      ],
      "metadata": {
        "id": "zSMlzdnUgVmd"
      },
      "execution_count": null,
      "outputs": []
    },
    {
      "cell_type": "code",
      "source": [
        "# Building the model\n",
        "# Method 1. Logistic Regression\n",
        "from sklearn.linear_model import LogisticRegression\n",
        "clf_1=LogisticRegression()\n",
        "clf_1.fit(X_train_scaled,Y_train)\n",
        "y_pred1=clf_1.predict(X_test_scaled)"
      ],
      "metadata": {
        "id": "w8WxdeiwgvQ7"
      },
      "execution_count": null,
      "outputs": []
    },
    {
      "cell_type": "code",
      "source": [
        "from sklearn.metrics import accuracy_score,f1_score,confusion_matrix,precision_score,recall_score\n",
        "acc=accuracy_score(Y_test,y_pred1)\n",
        "f1=f1_score(Y_test,y_pred1)\n",
        "precision=accuracy_score(Y_test,y_pred1)\n",
        "recall=recall_score(Y_test,y_pred1)\n",
        "cm=confusion_matrix(Y_test,y_pred1)\n",
        "cm"
      ],
      "metadata": {
        "id": "YGVaeQ5whOQr"
      },
      "execution_count": null,
      "outputs": []
    },
    {
      "cell_type": "code",
      "source": [
        "result_1=pd.DataFrame([['Logistic Regression',acc,f1,precision,recall]],\n",
        "                      columns=['Model','Accuracy','f1','Precison','Recall'])\n",
        "result_1"
      ],
      "metadata": {
        "id": "d3UM75gNhruQ"
      },
      "execution_count": null,
      "outputs": []
    },
    {
      "cell_type": "code",
      "source": [
        "from sklearn.model_selection import cross_val_score\n",
        "cv_1=cross_val_score(clf_1,X_train_scaled,Y_train,cv=10)\n",
        "cv_1"
      ],
      "metadata": {
        "id": "x_fCXQg2iGYW"
      },
      "execution_count": null,
      "outputs": []
    },
    {
      "cell_type": "code",
      "source": [
        "print(\"Accuracy is\",np.mean(cv_1)*100,\"%\")\n",
        "print(\"Standard deviation is\",np.std(cv_1)*100,\"%\")"
      ],
      "metadata": {
        "id": "aWO-Ws-tiTxB"
      },
      "execution_count": null,
      "outputs": []
    },
    {
      "cell_type": "code",
      "source": [
        "# Method 2. Random Forest Classification\n",
        "from sklearn.ensemble import RandomForestClassifier\n",
        "clf_2=RandomForestClassifier()\n",
        "clf_2.fit(X_train_scaled,Y_train)\n",
        "y_pred2=clf_2.predict(X_test_scaled)"
      ],
      "metadata": {
        "id": "s37wNS-0igyI"
      },
      "execution_count": null,
      "outputs": []
    },
    {
      "cell_type": "code",
      "source": [
        "from sklearn.metrics import accuracy_score,f1_score,confusion_matrix,precision_score,recall_score\n",
        "acc=accuracy_score(Y_test,y_pred2)\n",
        "f1=f1_score(Y_test,y_pred2)\n",
        "precision=accuracy_score(Y_test,y_pred2)\n",
        "recall=recall_score(Y_test,y_pred2)\n",
        "cm=confusion_matrix(Y_test,y_pred2)\n",
        "cm"
      ],
      "metadata": {
        "id": "DEj2rAtQivpR"
      },
      "execution_count": null,
      "outputs": []
    },
    {
      "cell_type": "code",
      "source": [
        "result_2=pd.DataFrame([['Random Forest Classification',acc,f1,precision,recall]],\n",
        "                      columns=['Model','Accuracy','f1','Precison','Recall'])\n",
        "result_2"
      ],
      "metadata": {
        "id": "HFCYazQwi4Z0"
      },
      "execution_count": null,
      "outputs": []
    },
    {
      "cell_type": "code",
      "source": [
        "from sklearn.model_selection import cross_val_score\n",
        "cv_2=cross_val_score(clf_2,X_train_scaled,Y_train,cv=10)\n",
        "cv_2"
      ],
      "metadata": {
        "id": "jFCFLw5SjAf5"
      },
      "execution_count": null,
      "outputs": []
    },
    {
      "cell_type": "code",
      "source": [
        "print(\"Accuracy is\",np.mean(cv_2)*100,\"%\")\n",
        "print(\"Standard deviation is\",np.std(cv_2)*100,\"%\")"
      ],
      "metadata": {
        "id": "KejnqBGBjE-l"
      },
      "execution_count": null,
      "outputs": []
    },
    {
      "cell_type": "code",
      "source": [
        "# Method 3. XGBoost Classifier\n",
        "from xgboost import XGBRFClassifier\n",
        "clf_3=XGBRFClassifier()\n",
        "clf_3.fit(X_train_scaled,Y_train)\n",
        "y_pred3=clf_3.predict(X_test_scaled)"
      ],
      "metadata": {
        "id": "DbeFQljpjNtk"
      },
      "execution_count": null,
      "outputs": []
    },
    {
      "cell_type": "code",
      "source": [
        "from sklearn.metrics import accuracy_score,f1_score,confusion_matrix,precision_score,recall_score\n",
        "acc=accuracy_score(Y_test,y_pred3)\n",
        "f1=f1_score(Y_test,y_pred3)\n",
        "precision=accuracy_score(Y_test,y_pred3)\n",
        "recall=recall_score(Y_test,y_pred3)\n",
        "cm=confusion_matrix(Y_test,y_pred3)\n",
        "cm"
      ],
      "metadata": {
        "id": "R3FpF2wkjgDX"
      },
      "execution_count": null,
      "outputs": []
    },
    {
      "cell_type": "code",
      "source": [
        "result_3=pd.DataFrame([['XGBoost Classification',acc,f1,precision,recall]],\n",
        "                      columns=['Model','Accuracy','f1','Precison','Recall'])\n",
        "result_3"
      ],
      "metadata": {
        "id": "yCHP7NpGjn-7"
      },
      "execution_count": null,
      "outputs": []
    },
    {
      "cell_type": "code",
      "source": [
        "from sklearn.model_selection import cross_val_score\n",
        "cv_3=cross_val_score(clf_3,X_train_scaled,Y_train,cv=10)\n",
        "cv_3"
      ],
      "metadata": {
        "id": "w03XaMHDjvwT"
      },
      "execution_count": null,
      "outputs": []
    },
    {
      "cell_type": "code",
      "source": [
        "print(\"Accuracy is\",np.mean(cv_3)*100,\"%\")\n",
        "print(\"Standard deviation is\",np.std(cv_3)*100,\"%\")"
      ],
      "metadata": {
        "id": "WhNY7S5qj0kg"
      },
      "execution_count": null,
      "outputs": []
    },
    {
      "cell_type": "code",
      "source": [
        "# Hyperparameter tuning\n",
        "from sklearn.model_selection import RandomizedSearchCV\n",
        "parameters={\n",
        "    'penalty':['l1','l2','elasticnet','none'],\n",
        "    'C':[0.25,0.5,0.75,1.0,1.25,1.5,1.75,2.0],\n",
        "    'solver':['newton-cg','lbfgs','liblinear','sag','saga']\n",
        "}"
      ],
      "metadata": {
        "id": "n3N3-BYCkLfW"
      },
      "execution_count": null,
      "outputs": []
    },
    {
      "cell_type": "code",
      "source": [
        "random_search=RandomizedSearchCV(estimator=clf_1,param_distributions=parameters,\n",
        "                                 n_iter=10,scoring='roc_auc',n_jobs=-1,cv=10,verbose=3)\n",
        "random_search.fit(X_train_scaled,Y_train)\n",
        "random_search.best_params_"
      ],
      "metadata": {
        "id": "sIGNKjLnk7hp"
      },
      "execution_count": null,
      "outputs": []
    },
    {
      "cell_type": "code",
      "source": [
        "# Building the final model\n",
        "from sklearn.linear_model import LogisticRegression\n",
        "clf_final=LogisticRegression(solver='liblinear',penalty='l2',C=0.25)\n",
        "clf_final.fit(X_train_scaled,Y_train)\n",
        "y_pred_final=clf_final.predict(X_test_scaled)"
      ],
      "metadata": {
        "id": "Lz6QsGtBlbwU"
      },
      "execution_count": null,
      "outputs": []
    },
    {
      "cell_type": "code",
      "source": [
        "from sklearn.model_selection import cross_val_score\n",
        "cv_final=cross_val_score(clf_final,X_train_scaled,Y_train,cv=10)\n",
        "cv_final"
      ],
      "metadata": {
        "id": "bv21jJCml9WI"
      },
      "execution_count": null,
      "outputs": []
    },
    {
      "cell_type": "code",
      "source": [
        "print(\"Accuracy is\",np.mean(cv_final)*100,\"%\")\n",
        "print(\"Standard deviation is\",np.std(cv_final)*100,\"%\")"
      ],
      "metadata": {
        "id": "GrXYTr-kmF3Z"
      },
      "execution_count": null,
      "outputs": []
    },
    {
      "cell_type": "code",
      "source": [
        "# Predicting a single observation\n",
        "single_obs = [[41, 1102,\t1, 2,\t2,\t94,\t3,\t2,\t4,\t5993,\t19479,\t8,\t11,\t3,\t1,\t0,\t8,\t0,\t1,\t6,\t4,\t0,\t5,\n",
        "               0,\t1,\t0,\t1,\t1,\t0,\t0,\t0,\t0,\t0,\t0,\t0,\t0,\t0,\t0,\t0,\t1,\t0,\t0,\t1,\t1]]\n",
        "obs=scaler.transform(single_obs)\n",
        "obs=pd.DataFrame(obs,columns=single_obs)"
      ],
      "metadata": {
        "id": "lhQzN_XbmOGp"
      },
      "execution_count": null,
      "outputs": []
    },
    {
      "cell_type": "code",
      "source": [
        "final_prediction=clf_final.predict(obs)\n",
        "final_prediction"
      ],
      "metadata": {
        "id": "CqpF9UrWmv_L"
      },
      "execution_count": null,
      "outputs": []
    }
  ]
}