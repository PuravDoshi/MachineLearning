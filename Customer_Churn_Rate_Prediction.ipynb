{
  "nbformat": 4,
  "nbformat_minor": 0,
  "metadata": {
    "colab": {
      "provenance": []
    },
    "kernelspec": {
      "name": "python3",
      "display_name": "Python 3"
    },
    "language_info": {
      "name": "python"
    }
  },
  "cells": [
    {
      "cell_type": "code",
      "execution_count": null,
      "metadata": {
        "id": "T6q_EEE162b5"
      },
      "outputs": [],
      "source": [
        "import numpy as np\n",
        "import pandas as pd\n",
        "import matplotlib.pyplot as plt\n",
        "import seaborn as sns"
      ]
    },
    {
      "cell_type": "code",
      "source": [
        "df=pd.read_csv('Churn_Modelling.csv')\n",
        "df.head()"
      ],
      "metadata": {
        "id": "BgUG3O8Y7sBu"
      },
      "execution_count": null,
      "outputs": []
    },
    {
      "cell_type": "code",
      "source": [
        "# Data exploration - Gives Information about the dataset\n",
        "df.shape\n",
        "df.info()\n",
        "df.describe()"
      ],
      "metadata": {
        "id": "qzXUM2lw711v"
      },
      "execution_count": null,
      "outputs": []
    },
    {
      "cell_type": "code",
      "source": [
        "# Dealing with missing values\n",
        "df.isnull().sum()"
      ],
      "metadata": {
        "id": "sdXKpw2f_JKA"
      },
      "execution_count": null,
      "outputs": []
    },
    {
      "cell_type": "code",
      "source": [
        "df=df.drop(columns=['RowNumber','CustomerId','Surname'])\n",
        "df.head()"
      ],
      "metadata": {
        "id": "DMBMmmdA_TSm"
      },
      "execution_count": null,
      "outputs": []
    },
    {
      "cell_type": "code",
      "source": [
        "df.groupby('Geography').mean()\n",
        "df.groupby('Gender').mean()"
      ],
      "metadata": {
        "id": "qM7ihc2S_erQ"
      },
      "execution_count": null,
      "outputs": []
    },
    {
      "cell_type": "code",
      "source": [
        "# One Hot Encoding for categorical variables\n",
        "df=pd.get_dummies(df,columns=['Geography','Gender'],drop_first=True)\n",
        "df.head()"
      ],
      "metadata": {
        "id": "e0zJ0SfR_-4u"
      },
      "execution_count": null,
      "outputs": []
    },
    {
      "cell_type": "code",
      "source": [
        "sns.histplot(df['Exited'])\n",
        "plt.plot()"
      ],
      "metadata": {
        "id": "xJgsr-fLASpD"
      },
      "execution_count": null,
      "outputs": []
    },
    {
      "cell_type": "code",
      "source": [
        "(df.Exited==0).sum() # Staying with the bank\n",
        "(df.Exited==1).sum() # Left the bank"
      ],
      "metadata": {
        "id": "hvlKbX9oA8Xk"
      },
      "execution_count": null,
      "outputs": []
    },
    {
      "cell_type": "code",
      "source": [
        "df_2=df.drop(columns='Exited')\n",
        "df_2.head()"
      ],
      "metadata": {
        "id": "tml3PUtPBHKV"
      },
      "execution_count": null,
      "outputs": []
    },
    {
      "cell_type": "code",
      "source": [
        "# Establishing correlation of the dependent variable with the independent variables\n",
        "df_2.corrwith(df['Exited']).plot.bar(\n",
        "    figsize=(20,10),title='Correlation with exiting the bank',rot=45,grid=True\n",
        ")"
      ],
      "metadata": {
        "id": "y3pkcwAiBZMT"
      },
      "execution_count": null,
      "outputs": []
    },
    {
      "cell_type": "code",
      "source": [
        "# Correlation matrix\n",
        "corr=df.corr()\n",
        "corr"
      ],
      "metadata": {
        "id": "02rzYJ2eBund"
      },
      "execution_count": null,
      "outputs": []
    },
    {
      "cell_type": "code",
      "source": [
        "plt.figure(figsize=(20,10))\n",
        "sns.heatmap(corr,annot=True)"
      ],
      "metadata": {
        "id": "89gF3qOqB1Ec"
      },
      "execution_count": null,
      "outputs": []
    },
    {
      "cell_type": "code",
      "source": [
        "# Splitting the dataset\n",
        "from sklearn.model_selection import train_test_split\n",
        "X_train,X_test,Y_train,Y_test=train_test_split(df.drop(columns='Exited'),df['Exited'],test_size=0.2,random_state=0)"
      ],
      "metadata": {
        "id": "MGYoVU6UCGmj"
      },
      "execution_count": null,
      "outputs": []
    },
    {
      "cell_type": "code",
      "source": [
        "X_train.shape\n",
        "X_test.shape\n",
        "Y_train.shape\n",
        "Y_test.shape"
      ],
      "metadata": {
        "id": "iAcOUyWwC7r3"
      },
      "execution_count": null,
      "outputs": []
    },
    {
      "cell_type": "code",
      "source": [
        "# Feature Scaling\n",
        "from sklearn.preprocessing import StandardScaler\n",
        "scaler=StandardScaler()\n",
        "X_train_scaled=scaler.fit_transform(X_train)\n",
        "X_test_scaled=scaler.transform(X_test)"
      ],
      "metadata": {
        "id": "tJWUR6F9DmbT"
      },
      "execution_count": null,
      "outputs": []
    },
    {
      "cell_type": "code",
      "source": [
        "from sklearn.linear_model import LogisticRegression\n",
        "clf_1=LogisticRegression()\n",
        "clf_1.fit(X_train_scaled,Y_train)"
      ],
      "metadata": {
        "id": "SoPv7FSxjuQ8"
      },
      "execution_count": null,
      "outputs": []
    },
    {
      "cell_type": "code",
      "source": [
        "y_pred1=clf_1.predict(X_test_scaled)"
      ],
      "metadata": {
        "id": "E1zmYDwtkTNL"
      },
      "execution_count": null,
      "outputs": []
    },
    {
      "cell_type": "code",
      "source": [
        "from sklearn.metrics import accuracy_score,f1_score,precision_score,recall_score,confusion_matrix\n",
        "acc=accuracy_score(Y_test,y_pred1)\n",
        "f1=f1_score(Y_test,y_pred1)\n",
        "precision=precision_score(Y_test,y_pred1)\n",
        "recall=recall_score(Y_test,y_pred1)"
      ],
      "metadata": {
        "id": "n7R7t7mlkhYL"
      },
      "execution_count": null,
      "outputs": []
    },
    {
      "cell_type": "code",
      "source": [
        "result_1=pd.DataFrame([['Logistic Regression',acc,f1,precision,recall]],\n",
        "                      columns=['Model','Accuracy','F1','Precision','Recall'])\n",
        "result_1"
      ],
      "metadata": {
        "id": "1Y37YgJQlNl4"
      },
      "execution_count": null,
      "outputs": []
    },
    {
      "cell_type": "code",
      "source": [
        "cm=confusion_matrix(Y_test,y_pred1)\n",
        "cm"
      ],
      "metadata": {
        "id": "sQSrQDh1lyVj"
      },
      "execution_count": null,
      "outputs": []
    },
    {
      "cell_type": "code",
      "source": [
        "from sklearn.model_selection import cross_val_score\n",
        "cv_1=cross_val_score(clf_1,X_train_scaled,Y_train,cv=10)\n",
        "cv_1"
      ],
      "metadata": {
        "id": "x28N_iQxl41D"
      },
      "execution_count": null,
      "outputs": []
    },
    {
      "cell_type": "code",
      "source": [
        "print(\"Accuracy is \",np.mean(cv_1)*100,\"%\")\n",
        "print(\"Standard Deviation is \",np.std(cv_1)*100,\"%\")"
      ],
      "metadata": {
        "colab": {
          "base_uri": "https://localhost:8080/"
        },
        "id": "j5ouV7ODmTnq",
        "outputId": "76dc7683-030a-42f2-aed5-f7797a198c77"
      },
      "execution_count": null,
      "outputs": [
        {
          "output_type": "stream",
          "name": "stdout",
          "text": [
            "Accuracy is  80.8375 %\n",
            "Standard Deviation is  0.8786530885395 %\n"
          ]
        }
      ]
    },
    {
      "cell_type": "code",
      "source": [
        "from sklearn.ensemble import RandomForestClassifier\n",
        "clf_2=RandomForestClassifier()\n",
        "clf_2.fit(X_train_scaled,Y_train)\n",
        "y_pred2=clf_2.predict(X_test_scaled)"
      ],
      "metadata": {
        "id": "5XLEa7simt8S"
      },
      "execution_count": null,
      "outputs": []
    },
    {
      "cell_type": "code",
      "source": [
        "from sklearn.metrics import accuracy_score,f1_score,confusion_matrix,precision_score,recall_score\n",
        "acc=accuracy_score(Y_test,y_pred2)\n",
        "f1=f1_score(Y_test,y_pred2)\n",
        "precision=precision_score(Y_test,y_pred2)\n",
        "recall=recall_score(Y_test,y_pred2)"
      ],
      "metadata": {
        "id": "M9JY3GqgnL_7"
      },
      "execution_count": null,
      "outputs": []
    },
    {
      "cell_type": "code",
      "source": [
        "result_2=pd.DataFrame([['Random Forest',acc,f1,precision,recall]],\n",
        "                      columns=['Model','Accuracy','F1','Precision','Recall'])\n",
        "result_2"
      ],
      "metadata": {
        "id": "fVsmXCSbnwv_"
      },
      "execution_count": null,
      "outputs": []
    },
    {
      "cell_type": "code",
      "source": [
        "result_1=result_1.append(result_2,ignore_index=True)\n",
        "result_1"
      ],
      "metadata": {
        "id": "ogUf-faln5UE"
      },
      "execution_count": null,
      "outputs": []
    },
    {
      "cell_type": "code",
      "source": [
        "cm=confusion_matrix(Y_test,y_pred2)\n",
        "cm"
      ],
      "metadata": {
        "id": "pKaP7_S4oGYM"
      },
      "execution_count": null,
      "outputs": []
    },
    {
      "cell_type": "code",
      "source": [
        "from sklearn.model_selection import cross_val_score\n",
        "cv_2=cross_val_score(clf_2,X_train_scaled,Y_train,cv=10)\n",
        "cv_2"
      ],
      "metadata": {
        "id": "LpKzDrTbof37"
      },
      "execution_count": null,
      "outputs": []
    },
    {
      "cell_type": "code",
      "source": [
        "print(\"Accuracy is \",np.mean(cv_2)*100,\"%\")\n",
        "print(\"Standard Deviation is \",np.std(cv_2)*100,\"%\")"
      ],
      "metadata": {
        "colab": {
          "base_uri": "https://localhost:8080/"
        },
        "id": "wG7hD6hkoxGf",
        "outputId": "81d896ea-4953-4b25-f5c1-1623e4a8c86d"
      },
      "execution_count": null,
      "outputs": [
        {
          "output_type": "stream",
          "name": "stdout",
          "text": [
            "Accuracy is  86.075 %\n",
            "Standard Deviation is  0.9457140159688864 %\n"
          ]
        }
      ]
    },
    {
      "cell_type": "code",
      "source": [
        "from xgboost import XGBClassifier\n",
        "clf_3=XGBClassifier()\n",
        "clf_3.fit(X_train_scaled,Y_train)\n",
        "y_pred3=clf_3.predict(X_test_scaled)"
      ],
      "metadata": {
        "id": "HBRMr6qWo3K6"
      },
      "execution_count": null,
      "outputs": []
    },
    {
      "cell_type": "code",
      "source": [
        "from sklearn.metrics import accuracy_score,f1_score,confusion_matrix,precision_score,recall_score\n",
        "acc=accuracy_score(Y_test,y_pred3)\n",
        "f1=f1_score(Y_test,y_pred3)\n",
        "precision=precision_score(Y_test,y_pred3)\n",
        "recall=recall_score(Y_test,y_pred3)"
      ],
      "metadata": {
        "id": "3ucyoYbNpsts"
      },
      "execution_count": null,
      "outputs": []
    },
    {
      "cell_type": "code",
      "source": [
        "result_3=pd.DataFrame([['XGBoost',acc,f1,precision,recall]],\n",
        "                      columns=['Model','Accuracy','F1','Precision','Recall'])\n",
        "result_3"
      ],
      "metadata": {
        "id": "dLat834lqHA0"
      },
      "execution_count": null,
      "outputs": []
    },
    {
      "cell_type": "code",
      "source": [
        "cm=confusion_matrix(Y_test,y_pred3)\n",
        "cm"
      ],
      "metadata": {
        "id": "z6xpitpMqXxc"
      },
      "execution_count": null,
      "outputs": []
    },
    {
      "cell_type": "code",
      "source": [
        "from sklearn.model_selection import cross_val_score\n",
        "cv_3=cross_val_score(clf_3,X_train_scaled,Y_train,cv=10)\n",
        "cv_3"
      ],
      "metadata": {
        "id": "DTg6iYzpqe9T"
      },
      "execution_count": null,
      "outputs": []
    },
    {
      "cell_type": "code",
      "source": [
        "print(\"Accuracy is \",np.mean(cv_3)*100,\"%\")\n",
        "print(\"Standard Deviation is \",np.std(cv_3)*100,\"%\")"
      ],
      "metadata": {
        "colab": {
          "base_uri": "https://localhost:8080/"
        },
        "id": "dnhjLKNUqxz7",
        "outputId": "999ee63f-4aed-4d79-b2c8-fdcdffb2b620"
      },
      "execution_count": null,
      "outputs": [
        {
          "output_type": "stream",
          "name": "stdout",
          "text": [
            "Accuracy is  85.125 %\n",
            "Standard Deviation is  0.9953014618697171 %\n"
          ]
        }
      ]
    },
    {
      "cell_type": "code",
      "source": [
        "# Hyperparameter Tuning using Randomized Search\n",
        "from sklearn.model_selection import RandomizedSearchCV\n",
        "parameters={\n",
        "    'learning_rate':[0.05,0.10,0.15,0.20,0.25,0.30],\n",
        "    'max_depth':[3,4,5,6,7,8,10,12,15],\n",
        "    'min_child_weight':[1,3,5,7],\n",
        "    'gamma':[0.0,0.1,0.2,0.3,0.4],\n",
        "    'colsample_bytree':[0.3,0.4,0.5,0.7]\n",
        "}\n",
        "parameters"
      ],
      "metadata": {
        "id": "KsjbTcVZsZO_"
      },
      "execution_count": null,
      "outputs": []
    },
    {
      "cell_type": "code",
      "source": [
        "random_search=RandomizedSearchCV(estimator=clf_3,param_distributions=parameters,n_iter=5,\n",
        "                                 scoring='roc_auc',n_jobs=-1,cv=5,verbose=3)\n",
        "random_search.fit(X_train_scaled,Y_train)\n",
        "random_search.best_estimator_"
      ],
      "metadata": {
        "id": "U0mKcTG3u7vS"
      },
      "execution_count": null,
      "outputs": []
    },
    {
      "cell_type": "code",
      "source": [
        "# Building the final model"
      ],
      "metadata": {
        "id": "BzfZtupww_-q"
      },
      "execution_count": null,
      "outputs": []
    },
    {
      "cell_type": "code",
      "source": [
        "from xgboost import XGBClassifier\n",
        "clf_final=XGBClassifier(colsample_bytree=0.7,gamma=0.3,learning_rate=0.05,max_depth=8,min_child_weight=1)\n",
        "clf_final.fit(X_train_scaled,Y_train)\n",
        "y_pred_final=clf_final.predict(X_test_scaled)"
      ],
      "metadata": {
        "id": "Aa2XO1p6vUI4"
      },
      "execution_count": null,
      "outputs": []
    },
    {
      "cell_type": "code",
      "source": [
        "from sklearn.model_selection import cross_val_score\n",
        "cv_final=cross_val_score(clf_final,X_train_scaled,Y_train,cv=10)\n",
        "cv_final"
      ],
      "metadata": {
        "id": "5xgWv3wov2wy"
      },
      "execution_count": null,
      "outputs": []
    },
    {
      "cell_type": "code",
      "source": [
        "print(\"Accuracy is \",np.mean(cv_final)*100,\"%\")\n",
        "print(\"Standard Deviation is \",np.std(cv_final)*100,\"%\")"
      ],
      "metadata": {
        "id": "bsIQ-Eh8v9n_"
      },
      "execution_count": null,
      "outputs": []
    },
    {
      "cell_type": "code",
      "source": [
        "# Predicting a single observation using finalised model\n",
        "single_obs = [[625,\t45,\t5,\t12500.01,\t1,\t0,\t1,\t101348.88, 0,\t0, 1]]\n",
        "result=clf_final.predict(single_obs)\n",
        "result"
      ],
      "metadata": {
        "colab": {
          "base_uri": "https://localhost:8080/"
        },
        "id": "4pj36mJxwvVw",
        "outputId": "ccffab33-3180-4c35-b8a8-e7e23b9fd435"
      },
      "execution_count": null,
      "outputs": [
        {
          "output_type": "execute_result",
          "data": {
            "text/plain": [
              "array([0])"
            ]
          },
          "metadata": {},
          "execution_count": 59
        }
      ]
    }
  ]
}